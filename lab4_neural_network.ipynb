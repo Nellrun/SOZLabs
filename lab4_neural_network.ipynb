{
 "cells": [
  {
   "cell_type": "markdown",
   "metadata": {},
   "source": [
    "# Лабораторная №4 - Построение многослойных нейронных сетей используя tensorflow\n",
    "\n",
    "В предыдущей работе были разобраны базовые элементы библиотеки tensorflow и построен простейший нейрон. При построение массивных нейронных сетей используется огромное количество нейронов и связей между ними. Tensorflow содержит множество высокоуровневых асбтракций, которые позволяют в кротчайшие сроки создавать сложные глубинные сети. В данной лабораторной работы будет рассмотрено построение многослойной сети, используя слои нейронов, которые предоставляет библиотека tensorflow"
   ]
  },
  {
   "cell_type": "code",
   "execution_count": 95,
   "metadata": {
    "scrolled": false
   },
   "outputs": [],
   "source": [
    "# подключение нужных библиотек\n",
    "import tensorflow as tf\n",
    "import numpy as np\n",
    "import pandas as pd\n",
    "import matplotlib.pyplot as plt\n",
    "\n",
    "from sklearn.model_selection import train_test_split\n",
    "from sklearn.preprocessing import MinMaxScaler\n",
    "from sklearn.preprocessing import Imputer"
   ]
  },
  {
   "cell_type": "markdown",
   "metadata": {},
   "source": [
    "В качестве исходных данных будет использоваться данные о титанике, описанные в первой лабораторной работе. Однако в исходном виде обучение даст плохие результаты, поэтому необходимо его преобразовать. tensorflow содержит обширное встроенные возможности трансформации данных, однако для простоты будет использоваться pandas и sklearn"
   ]
  },
  {
   "cell_type": "code",
   "execution_count": 96,
   "metadata": {},
   "outputs": [],
   "source": [
    "# Загрузка дата сета\n",
    "data = pd.read_csv(\"datasets/titanic_train.csv\")"
   ]
  },
  {
   "cell_type": "markdown",
   "metadata": {},
   "source": [
    "Замена пола на boolean переменную, а так уже удаление вторичных столбцов"
   ]
  },
  {
   "cell_type": "code",
   "execution_count": 97,
   "metadata": {},
   "outputs": [],
   "source": [
    "genders = {\"male\": 1, \"female\": 0}\n",
    "data[\"Sex\"] = data[\"Sex\"].apply(lambda s: genders.get(s))\n",
    "data = data.drop([\"PassengerId\",\"Name\", \"Ticket\", \"Fare\", \"Cabin\", \"Embarked\"],axis=1)"
   ]
  },
  {
   "cell_type": "markdown",
   "metadata": {},
   "source": [
    "Рассмотрим колонку Pclass. "
   ]
  },
  {
   "cell_type": "code",
   "execution_count": 98,
   "metadata": {},
   "outputs": [
    {
     "data": {
      "text/html": [
       "<div>\n",
       "<style scoped>\n",
       "    .dataframe tbody tr th:only-of-type {\n",
       "        vertical-align: middle;\n",
       "    }\n",
       "\n",
       "    .dataframe tbody tr th {\n",
       "        vertical-align: top;\n",
       "    }\n",
       "\n",
       "    .dataframe thead th {\n",
       "        text-align: right;\n",
       "    }\n",
       "</style>\n",
       "<table border=\"1\" class=\"dataframe\">\n",
       "  <thead>\n",
       "    <tr style=\"text-align: right;\">\n",
       "      <th></th>\n",
       "      <th>Survived</th>\n",
       "      <th>Pclass</th>\n",
       "      <th>Sex</th>\n",
       "      <th>Age</th>\n",
       "      <th>SibSp</th>\n",
       "      <th>Parch</th>\n",
       "    </tr>\n",
       "  </thead>\n",
       "  <tbody>\n",
       "    <tr>\n",
       "      <th>0</th>\n",
       "      <td>0</td>\n",
       "      <td>3</td>\n",
       "      <td>1</td>\n",
       "      <td>22.0</td>\n",
       "      <td>1</td>\n",
       "      <td>0</td>\n",
       "    </tr>\n",
       "    <tr>\n",
       "      <th>1</th>\n",
       "      <td>1</td>\n",
       "      <td>1</td>\n",
       "      <td>0</td>\n",
       "      <td>38.0</td>\n",
       "      <td>1</td>\n",
       "      <td>0</td>\n",
       "    </tr>\n",
       "    <tr>\n",
       "      <th>2</th>\n",
       "      <td>1</td>\n",
       "      <td>3</td>\n",
       "      <td>0</td>\n",
       "      <td>26.0</td>\n",
       "      <td>0</td>\n",
       "      <td>0</td>\n",
       "    </tr>\n",
       "    <tr>\n",
       "      <th>3</th>\n",
       "      <td>1</td>\n",
       "      <td>1</td>\n",
       "      <td>0</td>\n",
       "      <td>35.0</td>\n",
       "      <td>1</td>\n",
       "      <td>0</td>\n",
       "    </tr>\n",
       "    <tr>\n",
       "      <th>4</th>\n",
       "      <td>0</td>\n",
       "      <td>3</td>\n",
       "      <td>1</td>\n",
       "      <td>35.0</td>\n",
       "      <td>0</td>\n",
       "      <td>0</td>\n",
       "    </tr>\n",
       "  </tbody>\n",
       "</table>\n",
       "</div>"
      ],
      "text/plain": [
       "   Survived  Pclass  Sex   Age  SibSp  Parch\n",
       "0         0       3    1  22.0      1      0\n",
       "1         1       1    0  38.0      1      0\n",
       "2         1       3    0  26.0      0      0\n",
       "3         1       1    0  35.0      1      0\n",
       "4         0       3    1  35.0      0      0"
      ]
     },
     "execution_count": 98,
     "metadata": {},
     "output_type": "execute_result"
    }
   ],
   "source": [
    "data.head()"
   ]
  },
  {
   "cell_type": "markdown",
   "metadata": {},
   "source": [
    "Данная колонка содержит конечное число различных идентификатор(1-3), поэтому для повышения качества обучения стоит использовать one hot encoding"
   ]
  },
  {
   "cell_type": "code",
   "execution_count": 99,
   "metadata": {},
   "outputs": [
    {
     "data": {
      "text/html": [
       "<div>\n",
       "<style scoped>\n",
       "    .dataframe tbody tr th:only-of-type {\n",
       "        vertical-align: middle;\n",
       "    }\n",
       "\n",
       "    .dataframe tbody tr th {\n",
       "        vertical-align: top;\n",
       "    }\n",
       "\n",
       "    .dataframe thead th {\n",
       "        text-align: right;\n",
       "    }\n",
       "</style>\n",
       "<table border=\"1\" class=\"dataframe\">\n",
       "  <thead>\n",
       "    <tr style=\"text-align: right;\">\n",
       "      <th></th>\n",
       "      <th>Survived</th>\n",
       "      <th>Sex</th>\n",
       "      <th>Age</th>\n",
       "      <th>SibSp</th>\n",
       "      <th>Parch</th>\n",
       "      <th>Pclass_1</th>\n",
       "      <th>Pclass_2</th>\n",
       "      <th>Pclass_3</th>\n",
       "    </tr>\n",
       "  </thead>\n",
       "  <tbody>\n",
       "    <tr>\n",
       "      <th>0</th>\n",
       "      <td>0</td>\n",
       "      <td>1</td>\n",
       "      <td>22.0</td>\n",
       "      <td>1</td>\n",
       "      <td>0</td>\n",
       "      <td>0</td>\n",
       "      <td>0</td>\n",
       "      <td>1</td>\n",
       "    </tr>\n",
       "    <tr>\n",
       "      <th>1</th>\n",
       "      <td>1</td>\n",
       "      <td>0</td>\n",
       "      <td>38.0</td>\n",
       "      <td>1</td>\n",
       "      <td>0</td>\n",
       "      <td>1</td>\n",
       "      <td>0</td>\n",
       "      <td>0</td>\n",
       "    </tr>\n",
       "    <tr>\n",
       "      <th>2</th>\n",
       "      <td>1</td>\n",
       "      <td>0</td>\n",
       "      <td>26.0</td>\n",
       "      <td>0</td>\n",
       "      <td>0</td>\n",
       "      <td>0</td>\n",
       "      <td>0</td>\n",
       "      <td>1</td>\n",
       "    </tr>\n",
       "    <tr>\n",
       "      <th>3</th>\n",
       "      <td>1</td>\n",
       "      <td>0</td>\n",
       "      <td>35.0</td>\n",
       "      <td>1</td>\n",
       "      <td>0</td>\n",
       "      <td>1</td>\n",
       "      <td>0</td>\n",
       "      <td>0</td>\n",
       "    </tr>\n",
       "    <tr>\n",
       "      <th>4</th>\n",
       "      <td>0</td>\n",
       "      <td>1</td>\n",
       "      <td>35.0</td>\n",
       "      <td>0</td>\n",
       "      <td>0</td>\n",
       "      <td>0</td>\n",
       "      <td>0</td>\n",
       "      <td>1</td>\n",
       "    </tr>\n",
       "  </tbody>\n",
       "</table>\n",
       "</div>"
      ],
      "text/plain": [
       "   Survived  Sex   Age  SibSp  Parch  Pclass_1  Pclass_2  Pclass_3\n",
       "0         0    1  22.0      1      0         0         0         1\n",
       "1         1    0  38.0      1      0         1         0         0\n",
       "2         1    0  26.0      0      0         0         0         1\n",
       "3         1    0  35.0      1      0         1         0         0\n",
       "4         0    1  35.0      0      0         0         0         1"
      ]
     },
     "execution_count": 99,
     "metadata": {},
     "output_type": "execute_result"
    }
   ],
   "source": [
    "data = pd.concat([data, pd.get_dummies(data[\"Pclass\"], prefix=\"Pclass\")], axis=1)\n",
    "data = data.drop(\"Pclass\", axis=1)\n",
    "data.head()"
   ]
  },
  {
   "cell_type": "code",
   "execution_count": 100,
   "metadata": {},
   "outputs": [],
   "source": [
    "#замена пустых значений \n",
    "# Для этого используется Imputer, который по умолчанию заменяет недастающие значения \n",
    "# средними значениями по выборке\n",
    "nan_columns = [\"Age\", \"SibSp\", \"Parch\"]\n",
    "\n",
    "for column in nan_columns:\n",
    "    imputer=Imputer()\n",
    "    data[column]=imputer.fit_transform(data[column].values.reshape(-1,1))"
   ]
  },
  {
   "cell_type": "code",
   "execution_count": 101,
   "metadata": {},
   "outputs": [],
   "source": [
    "# приведение типов для всей выборки\n",
    "data = data.astype(float).fillna(0)"
   ]
  },
  {
   "cell_type": "code",
   "execution_count": 102,
   "metadata": {
    "scrolled": true
   },
   "outputs": [
    {
     "name": "stdout",
     "output_type": "stream",
     "text": [
      "<class 'pandas.core.frame.DataFrame'>\n",
      "RangeIndex: 891 entries, 0 to 890\n",
      "Data columns (total 8 columns):\n",
      "Survived    891 non-null float64\n",
      "Sex         891 non-null float64\n",
      "Age         891 non-null float64\n",
      "SibSp       891 non-null float64\n",
      "Parch       891 non-null float64\n",
      "Pclass_1    891 non-null float64\n",
      "Pclass_2    891 non-null float64\n",
      "Pclass_3    891 non-null float64\n",
      "dtypes: float64(8)\n",
      "memory usage: 55.8 KB\n"
     ]
    }
   ],
   "source": [
    "data.info()"
   ]
  },
  {
   "cell_type": "markdown",
   "metadata": {},
   "source": [
    "Как видно все типы теперь float. Так же необходимо нормализовать данные. Единственный столбец, который не нормализован это Age. "
   ]
  },
  {
   "cell_type": "code",
   "execution_count": 103,
   "metadata": {},
   "outputs": [],
   "source": [
    "scaler = MinMaxScaler()\n",
    "data[\"Age\"] = scaler.fit_transform(data[\"Age\"].values.reshape(-1,1))"
   ]
  },
  {
   "cell_type": "code",
   "execution_count": 104,
   "metadata": {
    "scrolled": true
   },
   "outputs": [
    {
     "data": {
      "text/html": [
       "<div>\n",
       "<style scoped>\n",
       "    .dataframe tbody tr th:only-of-type {\n",
       "        vertical-align: middle;\n",
       "    }\n",
       "\n",
       "    .dataframe tbody tr th {\n",
       "        vertical-align: top;\n",
       "    }\n",
       "\n",
       "    .dataframe thead th {\n",
       "        text-align: right;\n",
       "    }\n",
       "</style>\n",
       "<table border=\"1\" class=\"dataframe\">\n",
       "  <thead>\n",
       "    <tr style=\"text-align: right;\">\n",
       "      <th></th>\n",
       "      <th>Survived</th>\n",
       "      <th>Sex</th>\n",
       "      <th>Age</th>\n",
       "      <th>SibSp</th>\n",
       "      <th>Parch</th>\n",
       "      <th>Pclass_1</th>\n",
       "      <th>Pclass_2</th>\n",
       "      <th>Pclass_3</th>\n",
       "    </tr>\n",
       "  </thead>\n",
       "  <tbody>\n",
       "    <tr>\n",
       "      <th>0</th>\n",
       "      <td>0.0</td>\n",
       "      <td>1.0</td>\n",
       "      <td>0.271174</td>\n",
       "      <td>1.0</td>\n",
       "      <td>0.0</td>\n",
       "      <td>0.0</td>\n",
       "      <td>0.0</td>\n",
       "      <td>1.0</td>\n",
       "    </tr>\n",
       "    <tr>\n",
       "      <th>1</th>\n",
       "      <td>1.0</td>\n",
       "      <td>0.0</td>\n",
       "      <td>0.472229</td>\n",
       "      <td>1.0</td>\n",
       "      <td>0.0</td>\n",
       "      <td>1.0</td>\n",
       "      <td>0.0</td>\n",
       "      <td>0.0</td>\n",
       "    </tr>\n",
       "    <tr>\n",
       "      <th>2</th>\n",
       "      <td>1.0</td>\n",
       "      <td>0.0</td>\n",
       "      <td>0.321438</td>\n",
       "      <td>0.0</td>\n",
       "      <td>0.0</td>\n",
       "      <td>0.0</td>\n",
       "      <td>0.0</td>\n",
       "      <td>1.0</td>\n",
       "    </tr>\n",
       "    <tr>\n",
       "      <th>3</th>\n",
       "      <td>1.0</td>\n",
       "      <td>0.0</td>\n",
       "      <td>0.434531</td>\n",
       "      <td>1.0</td>\n",
       "      <td>0.0</td>\n",
       "      <td>1.0</td>\n",
       "      <td>0.0</td>\n",
       "      <td>0.0</td>\n",
       "    </tr>\n",
       "    <tr>\n",
       "      <th>4</th>\n",
       "      <td>0.0</td>\n",
       "      <td>1.0</td>\n",
       "      <td>0.434531</td>\n",
       "      <td>0.0</td>\n",
       "      <td>0.0</td>\n",
       "      <td>0.0</td>\n",
       "      <td>0.0</td>\n",
       "      <td>1.0</td>\n",
       "    </tr>\n",
       "  </tbody>\n",
       "</table>\n",
       "</div>"
      ],
      "text/plain": [
       "   Survived  Sex       Age  SibSp  Parch  Pclass_1  Pclass_2  Pclass_3\n",
       "0       0.0  1.0  0.271174    1.0    0.0       0.0       0.0       1.0\n",
       "1       1.0  0.0  0.472229    1.0    0.0       1.0       0.0       0.0\n",
       "2       1.0  0.0  0.321438    0.0    0.0       0.0       0.0       1.0\n",
       "3       1.0  0.0  0.434531    1.0    0.0       1.0       0.0       0.0\n",
       "4       0.0  1.0  0.434531    0.0    0.0       0.0       0.0       1.0"
      ]
     },
     "execution_count": 104,
     "metadata": {},
     "output_type": "execute_result"
    }
   ],
   "source": [
    "data.head(5)"
   ]
  },
  {
   "cell_type": "markdown",
   "metadata": {},
   "source": [
    "Теперь все данные нормализованы, необходимо разбить исходные данных на обучающую и тестовую выборку. Для этого удобно воспользоваться train_test_split из sklearn"
   ]
  },
  {
   "cell_type": "code",
   "execution_count": 105,
   "metadata": {},
   "outputs": [],
   "source": [
    "train, test = train_test_split(data, test_size=0.2)"
   ]
  },
  {
   "cell_type": "code",
   "execution_count": 106,
   "metadata": {},
   "outputs": [],
   "source": [
    "# очистка графа и создание сессии\n",
    "tf.reset_default_graph()\n",
    "sess = tf.InteractiveSession()"
   ]
  },
  {
   "cell_type": "markdown",
   "metadata": {},
   "source": [
    "В предыдущей лабораторной работе использовалась подача данных при инициализации вычислений. Однако такой метод недостаточно производительный. Поэтому tensorflow имеет data api. Оно содержит средства для загрузки данных из различных источников, преобразования и так далее. Основным элементов является dataset. Его можно создать множеством способов, но самыми распространёнными является память и файлы. В нашем случае данные находятся в памяти. Для инициализации датасета из памяти используется функция from_tensor_slices, которая может принимать любые объекты. Если оно примет tensor - будут использоваться данные от него. Если будет передан какой-то объект - будет создан узел tf.constant, который будет содержать все данные.\n",
    "\n",
    "Помимо этого, tf предоставляет методы для манипулирования данными. repeat - повторяет все данные в датасете переданное количество раз. shuffle - перемешивает данные, в качестве параметра принимает размер буфера для перемешивания. batch - объединяет n записей в одну. Для примера повторим выборку 600 раз, что эквивалентно 600 циклам обучения, перемешаем и в качестве одного пакета возьмём 1000 строк. Создадим датасет для обучающей и тестовой выборки"
   ]
  },
  {
   "cell_type": "code",
   "execution_count": 116,
   "metadata": {},
   "outputs": [],
   "source": [
    "train_ds = tf.data.Dataset.from_tensor_slices((train.drop(\"Survived\",axis=1),train[\"Survived\"]))\n",
    "train_ds = train_ds.repeat(600).shuffle(10000).batch(1000)\n",
    "\n",
    "test_ds = tf.data.Dataset.from_tensor_slices((test.drop(\"Survived\",axis=1),test[\"Survived\"]))\n",
    "test_ds = test_ds.batch(10000)"
   ]
  },
  {
   "cell_type": "code",
   "execution_count": 117,
   "metadata": {},
   "outputs": [
    {
     "data": {
      "text/plain": [
       "<BatchDataset shapes: ((?, 7), (?,)), types: (tf.float64, tf.float64)>"
      ]
     },
     "execution_count": 117,
     "metadata": {},
     "output_type": "execute_result"
    }
   ],
   "source": [
    "train_ds"
   ]
  },
  {
   "cell_type": "markdown",
   "metadata": {},
   "source": [
    "Как видно, каждая запись в датасете содержит пакет из строк, где каждая строка представляет собой вектор из 7 значений исходных данных\n",
    "\n",
    "Для обучения на основе датасета используются итераторы. tf.data.Iteratro является основным\n",
    "способом извлечения данных из него. iterator.get_next извлекает следующий элемент датасета \n",
    "переводит итератор на следующий элемент.Когда элементов в датасете больше нет, появляется исключение tf.errors.OutOfRangeError.Существует несколько типов итераторов:\n",
    "* one shot iterator - проходит по выборке только один раз, не можем быть повторно использован, но не требует инициализации во время запуска вычислений\n",
    "* initializable - требует инициализации и используется, когда необходимо параметризировать исходный датасет. Например, передать размер датасета с помощью feed_dict\n",
    "* reinitializable - так же требует инициализации, но в качестве параметра принимает датасет, из которого будут извлекаться значения. Таким образом можно использовать разные датасеты, созданные ранее. Но при этом, структура датасета не должна изменяться, поэтому при создании итератора необходимо указать его структуру"
   ]
  },
  {
   "cell_type": "code",
   "execution_count": 118,
   "metadata": {},
   "outputs": [],
   "source": [
    "# создание reinitializable итератора\n",
    "iterator = tf.data.Iterator.from_structure(train_ds.output_types,\n",
    "                                           train_ds.output_shapes)\n",
    "\n",
    "# так же создадим операции инициализации здесь, для удобства\n",
    "# они пригодятся позже\n",
    "train_init = iterator.make_initializer(train_ds)\n",
    "valid_init = iterator.make_initializer(test_ds)\n",
    "# излвечение следующих элементов выборки. Мы используем пакеты, поэтому каждое \n",
    "#features содержит 1000 векторов из 7 значений, а labels - 1000 значений, \n",
    "# которые характеризуют выживание\n",
    "features , labels = iterator.get_next()\n",
    "\n",
    "labels = tf.reshape(labels,[tf.shape(labels)[0],1])"
   ]
  },
  {
   "cell_type": "markdown",
   "metadata": {},
   "source": [
    "Далее необходимо сформировать нейронную сеть. В данной лабораторной работе будут использоваться готовые слои из tensorflow. Таковыми являются:\n",
    "* tf.layers.dense - полносвязный слой нейронов.\n",
    "* tf.nn.relu - работает как функция активации relu для слоя нейронов\n",
    "\n",
    "Двумя основными параметрами при создания слоёв являются входные параметры и количество выходов. \n",
    "Ниже приведён пример создание нейронной сети из 4х слоёв с одним выходом и входным вектором данных размерностью 3\n",
    "```\n",
    "x = tf.layer.dense(tf.float32, shape=3)\n",
    "layer_1 = tf.layers.dense(x,3)\n",
    "layer_2 = tf.layers.dense(layer_1,4)\n",
    "layer_3 = tf.layers.dense(layer_2,3)\n",
    "y = tf.layers.dense(layer_3,1)\n",
    "```\n",
    "В таком случае будет создана следующая нейронная сеть\n",
    "![asda](./images/lab4_nn.png \"Title\")\n",
    "\n",
    "Однако подобная простейшая сеть даст плохой результат для выборки, рассматриваемой в данной лабораторной работе. Поэтому введём дополнительные слои relu и batch normalization"
   ]
  },
  {
   "cell_type": "code",
   "execution_count": 119,
   "metadata": {},
   "outputs": [],
   "source": [
    "hidden_size = 256\n",
    "keep_prob = tf.placeholder(tf.float64)\n",
    "is_training=tf.Variable(True,dtype=tf.bool)\n",
    "\n",
    "input_l = tf.layers.dense(features,hidden_size)\n",
    "normalization_layer = tf.layers.batch_normalization(input_l)\n",
    "relu = tf.nn.relu(normalization_layer)\n",
    "layer_out = tf.layers.dense(relu,1)"
   ]
  },
  {
   "cell_type": "code",
   "execution_count": 120,
   "metadata": {},
   "outputs": [],
   "source": [
    "# в качестве функции ошибки при пакетной обработке используется cross entropy. \n",
    "# По-сути эта функции вычисляет разницу между векторов предсказанных значений\n",
    "# и вектором верных значений\n",
    "loss = tf.nn.sigmoid_cross_entropy_with_logits(logits=layer_out, labels=labels)\n",
    "loss = tf.reduce_mean(loss)\n",
    "\n",
    "# так же добавим вычисление точности. В отличии от функции потерь, в этом случае \n",
    "# данные округляются\n",
    "predicted = tf.nn.sigmoid(layer_out)\n",
    "correct_pred = tf.equal(tf.round(predicted), labels)\n",
    "accuracy = tf.reduce_mean(tf.cast(correct_pred, tf.float32))\n",
    "\n",
    "optimizer = tf.train.AdamOptimizer(0.001).minimize(loss)"
   ]
  },
  {
   "cell_type": "code",
   "execution_count": 121,
   "metadata": {
    "scrolled": true
   },
   "outputs": [
    {
     "data": {
      "text/plain": [
       "[<matplotlib.lines.Line2D at 0x12b43828>]"
      ]
     },
     "execution_count": 121,
     "metadata": {},
     "output_type": "execute_result"
    },
    {
     "data": {
      "image/png": "[encoded data removed]",
      "text/plain": [
       "<matplotlib.figure.Figure at 0x13fc3cf8>"
      ]
     },
     "metadata": {},
     "output_type": "display_data"
    }
   ],
   "source": [
    "#инициализация всех весов в графе\n",
    "tf.global_variables_initializer().run()\n",
    "losses = []\n",
    "accs = []\n",
    "# инициализация итератора на тестовом датасете\n",
    "sess.run(train_init)\n",
    "# пока итератор не дойдёт до конца датасета, проводим обучение\n",
    "# датасет имеет repeat(600), что эквивалентно 600 циклам обучения и нет \n",
    "# необходимости обнулять итератор\n",
    "# каждую итерацию получаея потери и точность\n",
    "while True :\n",
    "    try:\n",
    "        acc , los , _ = sess.run([accuracy,loss, optimizer ], feed_dict = {is_training : True})\n",
    "        losses.append(los)\n",
    "        accs.append(acc)\n",
    "    except tf.errors.OutOfRangeError:\n",
    "         break;\n",
    "            \n",
    "plt.plot(range(len(losses)),losses)\n",
    "plt.plot(range(len(accs)),accs)"
   ]
  },
  {
   "cell_type": "markdown",
   "metadata": {},
   "source": [
    "Как видно, после 200 пакета ошибка уменьшается незначительно. Таким образом, точность обученной нейронной сети составляет ~80%. Хотя подобная оценка является весьма поверхностной"
   ]
  },
  {
   "cell_type": "code",
   "execution_count": 122,
   "metadata": {},
   "outputs": [
    {
     "data": {
      "text/plain": [
       "[0.79888266]"
      ]
     },
     "execution_count": 122,
     "metadata": {},
     "output_type": "execute_result"
    }
   ],
   "source": [
    "# инициализация итератора на тестовой выборке, проверяя качество обучения сети\n",
    "sess.run(valid_init)\n",
    "accuracy = sess.run([accuracy], feed_dict = {is_training : False})\n",
    "accuracy"
   ]
  },
  {
   "cell_type": "markdown",
   "metadata": {},
   "source": [
    "## Задание на лабораторную\n",
    "Файлы с исходными данными находятся по пути *Datasets/classification/v<номер варианта>.csv*\n",
    "\n",
    "| Вариант | Целевая переменная | Краткое описание | Источник\n",
    "|-------|------------|----------------------------|-------------------|\n",
    "|1|y|Предсказать, воспользуется ли клиент временным депозитом.|https://archive.ics.uci.edu/ml/datasets/bank+marketing\n",
    "|2|bad|Предсказать значение переменной BAD, показывающей что клиент банка не выполнит свои обязательства(например не выплатит кредит).|https://www.kaggle.com/ajay1735/hmeq-data/data\n",
    "|3|churn|Предсказать что клинет оператора(столбец churn) откажется от его услуг|https://www.kaggle.com/becksddf/churn-in-telecoms-dataset/data\n",
    "|4|RainTomorrow|Предсказать, будет ли завтра дождь(Столбец RainTomorrow), на основе данные за текущий день |https://www.kaggle.com/jsphyg/weather-dataset-rattle-package\n",
    "|5|sol|Пресказать, зарабатывает ли человек более 50k долларов в год|https://archive.ics.uci.edu/ml/datasets/Adult\n",
    "|6|acceptable|Предсказать, что качество машины в удовлетворительном состоянии( столбец acceptable)|https://archive.ics.uci.edu/ml/datasets/Car+Evaluation\n",
    "|7|Severity| Предсказать тип образование ( столбец Severity, 1 - злокачественная) |https://archive.ics.uci.edu/ml/datasets/Mammographic+Mass\n",
    "|8|dicision|Определить, готов ли пациент для выписки из больницы( столбец dicision = 1)|https://archive.ics.uci.edu/ml/datasets/Post-Operative+Patient\n",
    "|9|edible|Определить, является ли гриб съедобным по его внешним признакам( столбец edible)|https://archive.ics.uci.edu/ml/datasets/Mushroom\n",
    "|10|class|Предсказать банкротство на основе рисков( столбец class)|https://archive.ics.uci.edu/ml/datasets/Qualitative_Bankruptcy\n",
    "|11|class|Определить каким типом посадки необходимо воспользоваться : автоматическая или ручная ( столбец class)|https://archive.ics.uci.edu/ml/datasets/Shuttle+Landing+Control\n",
    "|12|absence|Определить наличие болезни сердца ( столбец absence )|https://archive.ics.uci.edu/ml/datasets/Statlog+%28Heart%29\n",
    "|13|target|Используя данные о сессии браузера, определить является пользователем Элис Целевой признак target – факт того, что сессия принадлжит Элис (то есть что именно Элис ходила по всем этим сайтам)|https://www.kaggle.com/c/catch-me-if-you-can-intruder-detection-through-webpage-session-tracking\n",
    "|14|survive|Определить, проживёт ли пациент более 5 лет после проведения операции|https://archive.ics.uci.edu/ml/datasets/Haberman%27s+Survival\n",
    "|15|isAlive|Определить, выживет ли персонаж игры престолов(колонка isAlive)|https://www.kaggle.com/mylesoneill/game-of-thrones/data"
   ]
  },
  {
   "cell_type": "code",
   "execution_count": null,
   "metadata": {},
   "outputs": [],
   "source": []
  }
 ],
 "metadata": {
  "kernelspec": {
   "display_name": "Python 3",
   "language": "python",
   "name": "python3"
  },
  "language_info": {
   "codemirror_mode": {
    "name": "ipython",
    "version": 3
   },
   "file_extension": ".py",
   "mimetype": "text/x-python",
   "name": "python",
   "nbconvert_exporter": "python",
   "pygments_lexer": "ipython3",
   "version": "3.6.4"
  }
 },
 "nbformat": 4,
 "nbformat_minor": 2
}
