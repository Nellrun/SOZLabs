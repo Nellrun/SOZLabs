{
 "cells": [
  {
   "cell_type": "markdown",
   "metadata": {},
   "source": [
    "# Лабораторная работа №3 : Основы Tensorflow для построения нейронных сетей"
   ]
  },
  {
   "cell_type": "markdown",
   "metadata": {},
   "source": [
    "Tensorflow (далее — TF) — довольно молодой фреймворк для глубокого машинного обучения, разрабатываемый в Google Brain. Долгое время фреймворк разрабатывался в закрытом режиме под названием DistBelief, но после глобального рефакторинга 9 ноября 2015 года был выпущен в open source. За год с небольшим TF дорос до версии 1.0, обрел интеграцию с keras, стал значительно быстрее и получил поддержку мобильных платформ. В последнее время фреймворк развивается еще и в сторону классических методов, и в некоторых частях интерфейса уже чем-то напоминает scikit-learn. До текущей версии интерфейс менялся активно и часто, но разработчики пообещали заморозить изменения в API. Мы будем рассматривать только Python API, хотя это не единственный вариант — также существуют интерфейсы для C++/C# и мобильных платформ."
   ]
  },
  {
   "cell_type": "markdown",
   "metadata": {},
   "source": [
    "## 1. Установка \n",
    "Для установки tensorflow рекомендуется использоваться pip, который устанавливается вместе с питоном. \n",
    "```\n",
    "pip install tensorflow\n",
    "```"
   ]
  },
  {
   "cell_type": "markdown",
   "metadata": {},
   "source": [
    "## 2. Введение"
   ]
  },
  {
   "cell_type": "markdown",
   "metadata": {},
   "source": [
    "Принципы работы с tensorflow достаточно просты. \n",
    "Мы должны составить граф операций, затем передать в этот граф данные и дать команду произвести вычисления. \n",
    "Для начала необходимо подключить необходимые библиотеки"
   ]
  },
  {
   "cell_type": "code",
   "execution_count": 4,
   "metadata": {},
   "outputs": [
    {
     "name": "stderr",
     "output_type": "stream",
     "text": [
      "C:\\Users\\axeli\\Anaconda3\\lib\\site-packages\\h5py\\__init__.py:36: FutureWarning: Conversion of the second argument of issubdtype from `float` to `np.floating` is deprecated. In future, it will be treated as `np.float64 == np.dtype(float).type`.\n",
      "  from ._conv import register_converters as _register_converters\n"
     ]
    }
   ],
   "source": [
    "import tensorflow as tf\n",
    "import numpy as np\n",
    "import random\n",
    "import matplotlib.pyplot as plt"
   ]
  },
  {
   "cell_type": "markdown",
   "metadata": {},
   "source": [
    "Для начала создадим простейший граф. \n",
    "\n",
    "Самым простейшим видом вершины в графе является константа. \n",
    "Для создания константного узла используется tf.constant(значение_константы). "
   ]
  },
  {
   "cell_type": "code",
   "execution_count": 21,
   "metadata": {},
   "outputs": [],
   "source": [
    "# константный узел графа, значение которого равно 5\n",
    "a = tf.constant(5,tf.float32)"
   ]
  },
  {
   "cell_type": "code",
   "execution_count": 22,
   "metadata": {},
   "outputs": [],
   "source": [
    "#Для запуска вычислений в части графа используется сессия.\n",
    "#При использовании jupyter notebook рекомендуется использовать интерактивную сессию.\n",
    "session = tf.InteractiveSession()"
   ]
  },
  {
   "cell_type": "markdown",
   "metadata": {},
   "source": [
    "Для запуска вычислений для какой-либо части графа используется метод run. \n",
    "\n",
    "Он принимает два вида аргументов:\n",
    "* Массив узлов, которые необходимо вычислить\n",
    "* (не обязательно) Данные для графа. \n",
    "Передача данных графу будет рассмотрено позже. \n",
    "\n",
    "Функция возвращает массив вычисленных значений для каждого изла, переданного в первом параметре\n",
    "\n",
    "Запустим вычисление простейшего графа, который на данный момент состоит из одной константной вершины"
   ]
  },
  {
   "cell_type": "code",
   "execution_count": 28,
   "metadata": {},
   "outputs": [
    {
     "data": {
      "text/plain": [
       "5.0"
      ]
     },
     "execution_count": 28,
     "metadata": {},
     "output_type": "execute_result"
    }
   ],
   "source": [
    "result = session.run(a)\n",
    "result"
   ]
  },
  {
   "cell_type": "markdown",
   "metadata": {},
   "source": [
    "для входных данных предусмотрен специальный тип placeholder\n",
    "в отличии от константы он не требует указать значение заранее, но требует указать тип\n",
    "также можно указать размерность и имя"
   ]
  },
  {
   "cell_type": "code",
   "execution_count": 40,
   "metadata": {},
   "outputs": [],
   "source": [
    "b = tf.placeholder(tf.float32, shape=[])\n",
    "# mult - узел, значение которого эквивалентно a*b , где a - константа объявленная выше\n",
    "# b - узел, данные которого будут переданы при запуске вычислений\n",
    "mult = tf.multiply(a,b)"
   ]
  },
  {
   "cell_type": "code",
   "execution_count": 41,
   "metadata": {},
   "outputs": [
    {
     "data": {
      "text/plain": [
       "25.0"
      ]
     },
     "execution_count": 41,
     "metadata": {},
     "output_type": "execute_result"
    }
   ],
   "source": [
    "# запустим вычисления для узла mult\n",
    "# в качестве значения b передадим 5\n",
    "mult_result = session.run(mult, { b : 5 } )\n",
    "mult_result "
   ]
  },
  {
   "cell_type": "markdown",
   "metadata": {},
   "source": [
    "Ещё одним типом вершин является tf.Variable. Этот тип создан специально, чтобы изменять его значения во время вычислений. \n",
    "Именно он используется для весов и других мест, которые должны быть оптимизированы при обучении"
   ]
  },
  {
   "cell_type": "code",
   "execution_count": 32,
   "metadata": {},
   "outputs": [],
   "source": [
    "# Для создания переменных узлов используется tf.get_variable\n",
    "# в качестве параметров принимается имя, размерность и тип\n",
    "var = tf.get_variable(\"example\", shape = [1] , dtype=tf.float32)"
   ]
  },
  {
   "cell_type": "markdown",
   "metadata": {},
   "source": [
    "При создании переменных они помещают в несколько коллекций : \n",
    "* tf.GraphKeys.GLOBAL_VARIABLES --- переменные, разделяемые между устройствами(GPU и CPU например). \n",
    "* tf.GraphKeys.TRAINABLE_VARIABLES --- Переменные, изменяемые при вычислениях. Например при градиентном спуске."
   ]
  },
  {
   "cell_type": "code",
   "execution_count": 44,
   "metadata": {},
   "outputs": [
    {
     "data": {
      "text/plain": [
       "[<tf.Variable 'example:0' shape=(1,) dtype=float32_ref>]"
      ]
     },
     "execution_count": 44,
     "metadata": {},
     "output_type": "execute_result"
    }
   ],
   "source": [
    "# вывод списка всех обучаемых переменных\n",
    "tf.get_collection(tf.GraphKeys.TRAINABLE_VARIABLES)"
   ]
  },
  {
   "cell_type": "markdown",
   "metadata": {},
   "source": [
    "# 3. Построение простейшего нейрона\n",
    "Заданием на данную лабораторную работу является построение простейшей модели с одним нейроном, которая будет \n",
    "предсказывать значение функции y = 2*a + 3b"
   ]
  },
  {
   "cell_type": "code",
   "execution_count": 18,
   "metadata": {},
   "outputs": [],
   "source": [
    "# очистка графа\n",
    "tf.reset_default_graph()\n",
    "sess = tf.InteractiveSession()"
   ]
  },
  {
   "cell_type": "markdown",
   "metadata": {},
   "source": [
    "Для начала необходимо сгенерировать исходные данные. \n",
    "Исходной функция содержит 2 переменные. \n",
    "Сгенерируем выборку "
   ]
  },
  {
   "cell_type": "code",
   "execution_count": 19,
   "metadata": {},
   "outputs": [],
   "source": [
    "dataset_size = 100"
   ]
  },
  {
   "cell_type": "code",
   "execution_count": 20,
   "metadata": {},
   "outputs": [],
   "source": [
    "# Так как функция весьма проста, всю выборку можно сгенерировать в ручную\n",
    "\n",
    "x = np.array([ [random.randint(1,10),random.randint(1,10)] for i in range(dataset_size)])\n",
    "y = np.array( [ 2*x[i][0]+3*x[i][1] for i in range(dataset_size)]  )"
   ]
  },
  {
   "cell_type": "code",
   "execution_count": 21,
   "metadata": {
    "scrolled": true
   },
   "outputs": [
    {
     "data": {
      "text/plain": [
       "(array([[ 4,  6],\n",
       "        [ 5, 10],\n",
       "        [ 5,  7],\n",
       "        [ 8, 10],\n",
       "        [10,  9]]), array([26, 40, 31, 46, 47]))"
      ]
     },
     "execution_count": 21,
     "metadata": {},
     "output_type": "execute_result"
    }
   ],
   "source": [
    "# для каждого 0 < i < 100 2*a[i][0]+3*a[i][1] = y[i]\n",
    "x[:5], y[:5]"
   ]
  },
  {
   "cell_type": "code",
   "execution_count": 22,
   "metadata": {},
   "outputs": [],
   "source": [
    "# создание узла для подачи данных\n",
    "# в каждой записи исходной выборки содержится два параметра\n",
    "# поэтому размер узла = [2,1]\n",
    "x_input = tf.placeholder(tf.float32, shape=[2])\n",
    "y_input = tf.placeholder(tf.float32, shape=[])"
   ]
  },
  {
   "cell_type": "markdown",
   "metadata": {},
   "source": [
    "Были добавлены точки для входных данных\n",
    "![asda](./images/lab32_1.png \"Title\")"
   ]
  },
  {
   "cell_type": "code",
   "execution_count": 23,
   "metadata": {},
   "outputs": [],
   "source": [
    "# создание весов для\n",
    "weights = tf.get_variable(\"weight\", shape = [2] ,dtype=tf.float32)\n",
    "bias = tf.get_variable(\"bias\", shape = [2] ,dtype=tf.float32)"
   ]
  },
  {
   "cell_type": "code",
   "execution_count": 24,
   "metadata": {},
   "outputs": [],
   "source": [
    "model = x_input * weights + bias\n",
    "result = tf.reduce_sum(model)"
   ]
  },
  {
   "cell_type": "markdown",
   "metadata": {},
   "source": [
    "В модель были добавлены веса. После подачи вектора из двух значений в x_input этот вектор сначала умножается на вектор weights, \n",
    "а затем складываются с вектором bias. \n",
    "Затем оба значения в векторе складываются.\n",
    "![asda](./images/lab32_3.png \"Title\")\n",
    "На данном этапе модель готова : она может предсказывать на основе исходных данных. Но данная модель не обучена. Добавим вычисление потерь и оптимизатор, который будет оценивать потери и изменять веса weight и bias "
   ]
  },
  {
   "cell_type": "code",
   "execution_count": 35,
   "metadata": {},
   "outputs": [],
   "source": [
    "# вычисление среднеквадратичной ошибки между result и y_input\n",
    "loss = tf.losses.mean_squared_error(result, y_input)\n",
    "# в качестве метода опитимизации - градиентный спуск\n",
    "# для минимизации указываем потери, вычисленные раньше.\n",
    "# Используя переданный оптимизатору граф, он находит переменные которые можно оптимизировать\n",
    "optimizer = tf.train.GradientDescentOptimizer(0.01).minimize(loss)"
   ]
  },
  {
   "cell_type": "markdown",
   "metadata": {},
   "source": [
    "Теперь граф выглядит следующим образом\n",
    "![asda](./images/lab32_4.png \"Title\")"
   ]
  },
  {
   "cell_type": "markdown",
   "metadata": {},
   "source": [
    "Общий принцип работы следующий:\n",
    "* Подаются исходные значения a и b в виде вектора\n",
    "* Вектор умножается и складывается с весами\n",
    "* Вычисляется сумма значений вектора, это и есть результат\n",
    "* Для результата вычисляются потери\n",
    "* Оптимизатор, используя градиентный спуск, изменяет веса weight и bias для минимизации потерь. "
   ]
  },
  {
   "cell_type": "code",
   "execution_count": 31,
   "metadata": {
    "scrolled": true
   },
   "outputs": [
    {
     "data": {
      "text/plain": [
       "[<matplotlib.lines.Line2D at 0xb7eb198>]"
      ]
     },
     "execution_count": 31,
     "metadata": {},
     "output_type": "execute_result"
    },
    {
     "data": {
      "image/png": "[encoded data removed]",
      "text/plain": [
       "<matplotlib.figure.Figure at 0xb81ac18>"
      ]
     },
     "metadata": {},
     "output_type": "display_data"
    }
   ],
   "source": [
    "# сброс всех переменных в модели\n",
    "tf.global_variables_initializer().run()\n",
    "# количество итераций\n",
    "# каждую итерацию модель обучается на полном наборе данных\n",
    "# т.е. если dataset_size = 100, то суммарное кол-во 10000\n",
    "iterations = 100\n",
    "\n",
    "\n",
    "losts = []\n",
    "# на каждой итерации\n",
    "for i in range(iterations):\n",
    "    # проводится обучения на всей выборке \n",
    "    last_step_loss = 0\n",
    "    for j in range(dataset_size):\n",
    "        # запуск оптимизатора. Так же получаем ошибку из графа\n",
    "        last_step_loss , _  = sess.run([loss,optimizer], {x_input : x[j], y_input : y[j]})\n",
    "    # запись ошибки в конце каждой итерации\n",
    "    losts.append(last_step_loss)\n",
    "#вывод ошибки на конец каждой итерации\n",
    "plt.plot(range(len(losts)),losts)"
   ]
  },
  {
   "cell_type": "markdown",
   "metadata": {},
   "source": [
    "Как видно из графика примерно на 10й итерации ошибка ровна нулю, так как исходная функция весьма простая. Можно добавить условие, которое проверяет ошибку и если она мала - заканчивает вычисления. \n",
    "\n",
    "Теперь наша модель готова и обучена, её веса оптимальны. При её использовании нет необходимости запускать оптимизатор, только вычисления результата. Таким образом вершина loss_function и optimizer не будут использоваться. Так как они не используются, передавать данные в y_input так же не нужно"
   ]
  },
  {
   "cell_type": "code",
   "execution_count": 33,
   "metadata": {},
   "outputs": [
    {
     "data": {
      "text/plain": [
       "[13.0]"
      ]
     },
     "execution_count": 33,
     "metadata": {},
     "output_type": "execute_result"
    }
   ],
   "source": [
    "test = sess.run([result],{x_input : [ 2, 3] })\n",
    "test"
   ]
  },
  {
   "cell_type": "markdown",
   "metadata": {},
   "source": [
    "Очевидно что модель, построенная выше является нейроном\n",
    "![asda](./images/neuron.png \"Title\")\n"
   ]
  },
  {
   "cell_type": "markdown",
   "metadata": {},
   "source": [
    "# Задание на лабораторную\n",
    "\n",
    "Используя tensorflow построить модель, способную вычислять функцию :\n",
    "\n",
    "| Вариант        | Функция     |\n",
    "| -------------  |:-----------:|\n",
    "| 1              | y=9a-8b       |\n",
    "| 2              | y=3a-21b      |\n",
    "| 3              | y=21a+4b      |\n",
    "| 4              | y=2a-4b       |\n",
    "| 5              | y=15a+3b      |\n",
    "| 6              | y=5a-6b       |\n",
    "| 7              | y=3a-4b       |\n",
    "| 8              | y=13a-9b      |\n",
    "| 9              | y=12a-8b      |\n",
    "| 10             | y=5a+11b      |"
   ]
  }
 ],
 "metadata": {
  "kernelspec": {
   "display_name": "Python 3",
   "language": "python",
   "name": "python3"
  },
  "language_info": {
   "codemirror_mode": {
    "name": "ipython",
    "version": 3
   },
   "file_extension": ".py",
   "mimetype": "text/x-python",
   "name": "python",
   "nbconvert_exporter": "python",
   "pygments_lexer": "ipython3",
   "version": "3.6.4"
  }
 },
 "nbformat": 4,
 "nbformat_minor": 2
}
