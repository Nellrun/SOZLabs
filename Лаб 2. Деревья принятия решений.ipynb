{
 "cells": [
  {
   "cell_type": "markdown",
   "metadata": {},
   "source": [
    "# Тема 2. Деревья принятия решений"
   ]
  },
  {
   "cell_type": "markdown",
   "metadata": {},
   "source": [
    "## Agenda\n",
    "В данном разделе вы познакомитесь с основными библиотеками python для анализа данных: pandas, matplotlib, sklearn и попробуете на практике провести анализ и сделать выводы по исходным данным.  \n",
    "Целью данной лабораторной работы изучить принцип работы модели деревьев принятия решений, ее возможности.  \n",
    "В качестве исходных данных был выбран датасет титаника (https://www.kaggle.com/c/titanic/data). "
   ]
  },
  {
   "cell_type": "markdown",
   "metadata": {},
   "source": [
    "## Дерево принятий решений\n",
    "Дерево принятий решений - модель реализующая дерево, разделяющее каждый из объектов по заданным признакам. В ветках (ребрах) данного дерева находится условие разделения, а в листовых вершинах класс, к которому данное дерево относит объект. Пример такого дерева представлен на рисунке ниже"
   ]
  },
  {
   "cell_type": "markdown",
   "metadata": {},
   "source": [
    "![tree_img](images/treeExample.PNG)"
   ]
  },
  {
   "cell_type": "code",
   "execution_count": 4,
   "metadata": {},
   "outputs": [],
   "source": [
    "# Загрузим необходимы библиотеки\n",
    "import pandas as pd\n",
    "pd.set_option('display.max.columns', 100)\n",
    "import matplotlib.pyplot as plt\n",
    "import seaborn as sns\n",
    "\n",
    "# Импортируем класс деревьев\n",
    "from sklearn.tree import DecisionTreeClassifier\n",
    "# И Функцию разделения на тестовую и обучающую выборку\n",
    "from sklearn.model_selection import train_test_split\n",
    "\n",
    "# Библиотека с математическими операциями над матрицами, \n",
    "# которая лежит в основе pandas\n",
    "import numpy as np\n",
    "\n",
    "# Для возможности вывода картинок прямо в тетрадь\n",
    "%matplotlib inline "
   ]
  },
  {
   "cell_type": "code",
   "execution_count": 5,
   "metadata": {},
   "outputs": [
    {
     "data": {
      "text/html": [
       "<div>\n",
       "<style scoped>\n",
       "    .dataframe tbody tr th:only-of-type {\n",
       "        vertical-align: middle;\n",
       "    }\n",
       "\n",
       "    .dataframe tbody tr th {\n",
       "        vertical-align: top;\n",
       "    }\n",
       "\n",
       "    .dataframe thead th {\n",
       "        text-align: right;\n",
       "    }\n",
       "</style>\n",
       "<table border=\"1\" class=\"dataframe\">\n",
       "  <thead>\n",
       "    <tr style=\"text-align: right;\">\n",
       "      <th></th>\n",
       "      <th>Survived</th>\n",
       "      <th>Pclass</th>\n",
       "      <th>Name</th>\n",
       "      <th>Sex</th>\n",
       "      <th>Age</th>\n",
       "      <th>SibSp</th>\n",
       "      <th>Parch</th>\n",
       "      <th>Ticket</th>\n",
       "      <th>Fare</th>\n",
       "      <th>Cabin</th>\n",
       "      <th>Embarked</th>\n",
       "    </tr>\n",
       "    <tr>\n",
       "      <th>PassengerId</th>\n",
       "      <th></th>\n",
       "      <th></th>\n",
       "      <th></th>\n",
       "      <th></th>\n",
       "      <th></th>\n",
       "      <th></th>\n",
       "      <th></th>\n",
       "      <th></th>\n",
       "      <th></th>\n",
       "      <th></th>\n",
       "      <th></th>\n",
       "    </tr>\n",
       "  </thead>\n",
       "  <tbody>\n",
       "    <tr>\n",
       "      <th>1</th>\n",
       "      <td>0</td>\n",
       "      <td>3</td>\n",
       "      <td>Braund, Mr. Owen Harris</td>\n",
       "      <td>male</td>\n",
       "      <td>22.0</td>\n",
       "      <td>1</td>\n",
       "      <td>0</td>\n",
       "      <td>A/5 21171</td>\n",
       "      <td>7.2500</td>\n",
       "      <td>NaN</td>\n",
       "      <td>S</td>\n",
       "    </tr>\n",
       "    <tr>\n",
       "      <th>2</th>\n",
       "      <td>1</td>\n",
       "      <td>1</td>\n",
       "      <td>Cumings, Mrs. John Bradley (Florence Briggs Th...</td>\n",
       "      <td>female</td>\n",
       "      <td>38.0</td>\n",
       "      <td>1</td>\n",
       "      <td>0</td>\n",
       "      <td>PC 17599</td>\n",
       "      <td>71.2833</td>\n",
       "      <td>C85</td>\n",
       "      <td>C</td>\n",
       "    </tr>\n",
       "    <tr>\n",
       "      <th>3</th>\n",
       "      <td>1</td>\n",
       "      <td>3</td>\n",
       "      <td>Heikkinen, Miss. Laina</td>\n",
       "      <td>female</td>\n",
       "      <td>26.0</td>\n",
       "      <td>0</td>\n",
       "      <td>0</td>\n",
       "      <td>STON/O2. 3101282</td>\n",
       "      <td>7.9250</td>\n",
       "      <td>NaN</td>\n",
       "      <td>S</td>\n",
       "    </tr>\n",
       "    <tr>\n",
       "      <th>4</th>\n",
       "      <td>1</td>\n",
       "      <td>1</td>\n",
       "      <td>Futrelle, Mrs. Jacques Heath (Lily May Peel)</td>\n",
       "      <td>female</td>\n",
       "      <td>35.0</td>\n",
       "      <td>1</td>\n",
       "      <td>0</td>\n",
       "      <td>113803</td>\n",
       "      <td>53.1000</td>\n",
       "      <td>C123</td>\n",
       "      <td>S</td>\n",
       "    </tr>\n",
       "    <tr>\n",
       "      <th>5</th>\n",
       "      <td>0</td>\n",
       "      <td>3</td>\n",
       "      <td>Allen, Mr. William Henry</td>\n",
       "      <td>male</td>\n",
       "      <td>35.0</td>\n",
       "      <td>0</td>\n",
       "      <td>0</td>\n",
       "      <td>373450</td>\n",
       "      <td>8.0500</td>\n",
       "      <td>NaN</td>\n",
       "      <td>S</td>\n",
       "    </tr>\n",
       "  </tbody>\n",
       "</table>\n",
       "</div>"
      ],
      "text/plain": [
       "             Survived  Pclass  \\\n",
       "PassengerId                     \n",
       "1                   0       3   \n",
       "2                   1       1   \n",
       "3                   1       3   \n",
       "4                   1       1   \n",
       "5                   0       3   \n",
       "\n",
       "                                                          Name     Sex   Age  \\\n",
       "PassengerId                                                                    \n",
       "1                                      Braund, Mr. Owen Harris    male  22.0   \n",
       "2            Cumings, Mrs. John Bradley (Florence Briggs Th...  female  38.0   \n",
       "3                                       Heikkinen, Miss. Laina  female  26.0   \n",
       "4                 Futrelle, Mrs. Jacques Heath (Lily May Peel)  female  35.0   \n",
       "5                                     Allen, Mr. William Henry    male  35.0   \n",
       "\n",
       "             SibSp  Parch            Ticket     Fare Cabin Embarked  \n",
       "PassengerId                                                          \n",
       "1                1      0         A/5 21171   7.2500   NaN        S  \n",
       "2                1      0          PC 17599  71.2833   C85        C  \n",
       "3                0      0  STON/O2. 3101282   7.9250   NaN        S  \n",
       "4                1      0            113803  53.1000  C123        S  \n",
       "5                0      0            373450   8.0500   NaN        S  "
      ]
     },
     "execution_count": 5,
     "metadata": {},
     "output_type": "execute_result"
    }
   ],
   "source": [
    "# Загрузка дата сета\n",
    "data = pd.read_csv(\"datasets/titanic_train.csv\", index_col=\"PassengerId\")\n",
    "\n",
    "# Вывод на экран первых 5 записей\n",
    "data.head()"
   ]
  },
  {
   "cell_type": "code",
   "execution_count": 6,
   "metadata": {},
   "outputs": [],
   "source": [
    "# Создадим дубликат датасета без стоблца Cabin и удалим записи содержащие пустые ячейки\n",
    "data_full = data.drop(\"Cabin\", axis=1).dropna()"
   ]
  },
  {
   "cell_type": "code",
   "execution_count": 7,
   "metadata": {},
   "outputs": [
    {
     "data": {
      "text/plain": [
       "PassengerId\n",
       "1    0\n",
       "2    1\n",
       "3    1\n",
       "4    1\n",
       "5    0\n",
       "Name: Gender, dtype: int64"
      ]
     },
     "execution_count": 7,
     "metadata": {},
     "output_type": "execute_result"
    }
   ],
   "source": [
    "# Заменяем строку \"male\" на 0, \"female\" на 1\n",
    "data_full[\"Gender\"] = data_full[\"Sex\"].map({\"male\": 0, \"female\": 1})\n",
    "data_full[\"Gender\"].head()"
   ]
  },
  {
   "cell_type": "code",
   "execution_count": 8,
   "metadata": {},
   "outputs": [
    {
     "data": {
      "text/html": [
       "<div>\n",
       "<style scoped>\n",
       "    .dataframe tbody tr th:only-of-type {\n",
       "        vertical-align: middle;\n",
       "    }\n",
       "\n",
       "    .dataframe tbody tr th {\n",
       "        vertical-align: top;\n",
       "    }\n",
       "\n",
       "    .dataframe thead th {\n",
       "        text-align: right;\n",
       "    }\n",
       "</style>\n",
       "<table border=\"1\" class=\"dataframe\">\n",
       "  <thead>\n",
       "    <tr style=\"text-align: right;\">\n",
       "      <th></th>\n",
       "      <th>Survived</th>\n",
       "      <th>Pclass</th>\n",
       "      <th>Name</th>\n",
       "      <th>Sex</th>\n",
       "      <th>Age</th>\n",
       "      <th>SibSp</th>\n",
       "      <th>Parch</th>\n",
       "      <th>Ticket</th>\n",
       "      <th>Fare</th>\n",
       "      <th>Embarked</th>\n",
       "      <th>Gender</th>\n",
       "    </tr>\n",
       "    <tr>\n",
       "      <th>PassengerId</th>\n",
       "      <th></th>\n",
       "      <th></th>\n",
       "      <th></th>\n",
       "      <th></th>\n",
       "      <th></th>\n",
       "      <th></th>\n",
       "      <th></th>\n",
       "      <th></th>\n",
       "      <th></th>\n",
       "      <th></th>\n",
       "      <th></th>\n",
       "    </tr>\n",
       "  </thead>\n",
       "  <tbody>\n",
       "    <tr>\n",
       "      <th>1</th>\n",
       "      <td>0</td>\n",
       "      <td>3</td>\n",
       "      <td>Braund, Mr. Owen Harris</td>\n",
       "      <td>male</td>\n",
       "      <td>22.0</td>\n",
       "      <td>1</td>\n",
       "      <td>0</td>\n",
       "      <td>A/5 21171</td>\n",
       "      <td>7.2500</td>\n",
       "      <td>S</td>\n",
       "      <td>0</td>\n",
       "    </tr>\n",
       "    <tr>\n",
       "      <th>2</th>\n",
       "      <td>1</td>\n",
       "      <td>1</td>\n",
       "      <td>Cumings, Mrs. John Bradley (Florence Briggs Th...</td>\n",
       "      <td>female</td>\n",
       "      <td>38.0</td>\n",
       "      <td>1</td>\n",
       "      <td>0</td>\n",
       "      <td>PC 17599</td>\n",
       "      <td>71.2833</td>\n",
       "      <td>C</td>\n",
       "      <td>1</td>\n",
       "    </tr>\n",
       "    <tr>\n",
       "      <th>3</th>\n",
       "      <td>1</td>\n",
       "      <td>3</td>\n",
       "      <td>Heikkinen, Miss. Laina</td>\n",
       "      <td>female</td>\n",
       "      <td>26.0</td>\n",
       "      <td>0</td>\n",
       "      <td>0</td>\n",
       "      <td>STON/O2. 3101282</td>\n",
       "      <td>7.9250</td>\n",
       "      <td>S</td>\n",
       "      <td>1</td>\n",
       "    </tr>\n",
       "    <tr>\n",
       "      <th>4</th>\n",
       "      <td>1</td>\n",
       "      <td>1</td>\n",
       "      <td>Futrelle, Mrs. Jacques Heath (Lily May Peel)</td>\n",
       "      <td>female</td>\n",
       "      <td>35.0</td>\n",
       "      <td>1</td>\n",
       "      <td>0</td>\n",
       "      <td>113803</td>\n",
       "      <td>53.1000</td>\n",
       "      <td>S</td>\n",
       "      <td>1</td>\n",
       "    </tr>\n",
       "    <tr>\n",
       "      <th>5</th>\n",
       "      <td>0</td>\n",
       "      <td>3</td>\n",
       "      <td>Allen, Mr. William Henry</td>\n",
       "      <td>male</td>\n",
       "      <td>35.0</td>\n",
       "      <td>0</td>\n",
       "      <td>0</td>\n",
       "      <td>373450</td>\n",
       "      <td>8.0500</td>\n",
       "      <td>S</td>\n",
       "      <td>0</td>\n",
       "    </tr>\n",
       "  </tbody>\n",
       "</table>\n",
       "</div>"
      ],
      "text/plain": [
       "             Survived  Pclass  \\\n",
       "PassengerId                     \n",
       "1                   0       3   \n",
       "2                   1       1   \n",
       "3                   1       3   \n",
       "4                   1       1   \n",
       "5                   0       3   \n",
       "\n",
       "                                                          Name     Sex   Age  \\\n",
       "PassengerId                                                                    \n",
       "1                                      Braund, Mr. Owen Harris    male  22.0   \n",
       "2            Cumings, Mrs. John Bradley (Florence Briggs Th...  female  38.0   \n",
       "3                                       Heikkinen, Miss. Laina  female  26.0   \n",
       "4                 Futrelle, Mrs. Jacques Heath (Lily May Peel)  female  35.0   \n",
       "5                                     Allen, Mr. William Henry    male  35.0   \n",
       "\n",
       "             SibSp  Parch            Ticket     Fare Embarked  Gender  \n",
       "PassengerId                                                            \n",
       "1                1      0         A/5 21171   7.2500        S       0  \n",
       "2                1      0          PC 17599  71.2833        C       1  \n",
       "3                0      0  STON/O2. 3101282   7.9250        S       1  \n",
       "4                1      0            113803  53.1000        S       1  \n",
       "5                0      0            373450   8.0500        S       0  "
      ]
     },
     "execution_count": 8,
     "metadata": {},
     "output_type": "execute_result"
    }
   ],
   "source": [
    "data_full.head()"
   ]
  },
  {
   "cell_type": "code",
   "execution_count": 9,
   "metadata": {},
   "outputs": [],
   "source": [
    "# Выделим отдельно стобцы на основе которых будем строить модель\n",
    "X = data_full[[\"Age\", \"Gender\"]]\n",
    "# Выделим целевую переменную\n",
    "y = data_full.Survived"
   ]
  },
  {
   "cell_type": "code",
   "execution_count": 10,
   "metadata": {},
   "outputs": [],
   "source": [
    "# Разделим выборку на обучающую и тестовую\n",
    "X_train, X_test, y_train, y_test = train_test_split(X, y,\n",
    "                                                    test_size=0.2, random_state=40,\n",
    "                                                   shuffle=True)"
   ]
  },
  {
   "cell_type": "markdown",
   "metadata": {},
   "source": [
    "Для начала попробуем без настройки гиперпараметров обучить дерево"
   ]
  },
  {
   "cell_type": "code",
   "execution_count": 19,
   "metadata": {},
   "outputs": [],
   "source": [
    "# Создадим модель и установим фиксированный random_state для воспроизводимости результатов\n",
    "model = DecisionTreeClassifier(random_state=42)"
   ]
  },
  {
   "cell_type": "code",
   "execution_count": 20,
   "metadata": {},
   "outputs": [
    {
     "data": {
      "text/plain": [
       "DecisionTreeClassifier(class_weight=None, criterion='gini', max_depth=None,\n",
       "            max_features=None, max_leaf_nodes=None,\n",
       "            min_impurity_decrease=0.0, min_impurity_split=None,\n",
       "            min_samples_leaf=1, min_samples_split=2,\n",
       "            min_weight_fraction_leaf=0.0, presort=False, random_state=42,\n",
       "            splitter='best')"
      ]
     },
     "execution_count": 20,
     "metadata": {},
     "output_type": "execute_result"
    }
   ],
   "source": [
    "# Обучим модель\n",
    "model.fit(X_train, y_train)"
   ]
  },
  {
   "cell_type": "code",
   "execution_count": 21,
   "metadata": {},
   "outputs": [
    {
     "name": "stdout",
     "output_type": "stream",
     "text": [
      "Доля правильных ответов = 0.7132867132867133\n"
     ]
    }
   ],
   "source": [
    "# Проверим долю правильных ответов нашей модели на тестовой выборке\n",
    "acc = np.sum(model.predict(X_test) == y_test) / X_test.shape[0]\n",
    "print(\"Доля правильных ответов = {}\".format(acc))"
   ]
  },
  {
   "cell_type": "markdown",
   "metadata": {},
   "source": [
    "Как мы видим с 71% точностью наша модель правильно определяет выживаемость того или иного пассажира титаника"
   ]
  },
  {
   "cell_type": "markdown",
   "metadata": {},
   "source": [
    "Попробуем улучшить нашу модель. Добавим 3 новых признака: первый класс, второй класс и третий класс. Эти данные можно взять из столбца \"Pclass\".\n",
    "Для разбития качественного признака в несколько бинарных сущесвует метод **pd.get_dummies**"
   ]
  },
  {
   "cell_type": "code",
   "execution_count": 22,
   "metadata": {},
   "outputs": [
    {
     "data": {
      "text/html": [
       "<div>\n",
       "<style scoped>\n",
       "    .dataframe tbody tr th:only-of-type {\n",
       "        vertical-align: middle;\n",
       "    }\n",
       "\n",
       "    .dataframe tbody tr th {\n",
       "        vertical-align: top;\n",
       "    }\n",
       "\n",
       "    .dataframe thead th {\n",
       "        text-align: right;\n",
       "    }\n",
       "</style>\n",
       "<table border=\"1\" class=\"dataframe\">\n",
       "  <thead>\n",
       "    <tr style=\"text-align: right;\">\n",
       "      <th></th>\n",
       "      <th>Survived</th>\n",
       "      <th>Pclass</th>\n",
       "      <th>Name</th>\n",
       "      <th>Sex</th>\n",
       "      <th>Age</th>\n",
       "      <th>SibSp</th>\n",
       "      <th>Parch</th>\n",
       "      <th>Ticket</th>\n",
       "      <th>Fare</th>\n",
       "      <th>Embarked</th>\n",
       "      <th>Gender</th>\n",
       "      <th>Pclass_1</th>\n",
       "      <th>Pclass_2</th>\n",
       "      <th>Pclass_3</th>\n",
       "    </tr>\n",
       "    <tr>\n",
       "      <th>PassengerId</th>\n",
       "      <th></th>\n",
       "      <th></th>\n",
       "      <th></th>\n",
       "      <th></th>\n",
       "      <th></th>\n",
       "      <th></th>\n",
       "      <th></th>\n",
       "      <th></th>\n",
       "      <th></th>\n",
       "      <th></th>\n",
       "      <th></th>\n",
       "      <th></th>\n",
       "      <th></th>\n",
       "      <th></th>\n",
       "    </tr>\n",
       "  </thead>\n",
       "  <tbody>\n",
       "    <tr>\n",
       "      <th>1</th>\n",
       "      <td>0</td>\n",
       "      <td>3</td>\n",
       "      <td>Braund, Mr. Owen Harris</td>\n",
       "      <td>male</td>\n",
       "      <td>22.0</td>\n",
       "      <td>1</td>\n",
       "      <td>0</td>\n",
       "      <td>A/5 21171</td>\n",
       "      <td>7.2500</td>\n",
       "      <td>S</td>\n",
       "      <td>0</td>\n",
       "      <td>0</td>\n",
       "      <td>0</td>\n",
       "      <td>1</td>\n",
       "    </tr>\n",
       "    <tr>\n",
       "      <th>2</th>\n",
       "      <td>1</td>\n",
       "      <td>1</td>\n",
       "      <td>Cumings, Mrs. John Bradley (Florence Briggs Th...</td>\n",
       "      <td>female</td>\n",
       "      <td>38.0</td>\n",
       "      <td>1</td>\n",
       "      <td>0</td>\n",
       "      <td>PC 17599</td>\n",
       "      <td>71.2833</td>\n",
       "      <td>C</td>\n",
       "      <td>1</td>\n",
       "      <td>1</td>\n",
       "      <td>0</td>\n",
       "      <td>0</td>\n",
       "    </tr>\n",
       "    <tr>\n",
       "      <th>3</th>\n",
       "      <td>1</td>\n",
       "      <td>3</td>\n",
       "      <td>Heikkinen, Miss. Laina</td>\n",
       "      <td>female</td>\n",
       "      <td>26.0</td>\n",
       "      <td>0</td>\n",
       "      <td>0</td>\n",
       "      <td>STON/O2. 3101282</td>\n",
       "      <td>7.9250</td>\n",
       "      <td>S</td>\n",
       "      <td>1</td>\n",
       "      <td>0</td>\n",
       "      <td>0</td>\n",
       "      <td>1</td>\n",
       "    </tr>\n",
       "    <tr>\n",
       "      <th>4</th>\n",
       "      <td>1</td>\n",
       "      <td>1</td>\n",
       "      <td>Futrelle, Mrs. Jacques Heath (Lily May Peel)</td>\n",
       "      <td>female</td>\n",
       "      <td>35.0</td>\n",
       "      <td>1</td>\n",
       "      <td>0</td>\n",
       "      <td>113803</td>\n",
       "      <td>53.1000</td>\n",
       "      <td>S</td>\n",
       "      <td>1</td>\n",
       "      <td>1</td>\n",
       "      <td>0</td>\n",
       "      <td>0</td>\n",
       "    </tr>\n",
       "    <tr>\n",
       "      <th>5</th>\n",
       "      <td>0</td>\n",
       "      <td>3</td>\n",
       "      <td>Allen, Mr. William Henry</td>\n",
       "      <td>male</td>\n",
       "      <td>35.0</td>\n",
       "      <td>0</td>\n",
       "      <td>0</td>\n",
       "      <td>373450</td>\n",
       "      <td>8.0500</td>\n",
       "      <td>S</td>\n",
       "      <td>0</td>\n",
       "      <td>0</td>\n",
       "      <td>0</td>\n",
       "      <td>1</td>\n",
       "    </tr>\n",
       "  </tbody>\n",
       "</table>\n",
       "</div>"
      ],
      "text/plain": [
       "             Survived  Pclass  \\\n",
       "PassengerId                     \n",
       "1                   0       3   \n",
       "2                   1       1   \n",
       "3                   1       3   \n",
       "4                   1       1   \n",
       "5                   0       3   \n",
       "\n",
       "                                                          Name     Sex   Age  \\\n",
       "PassengerId                                                                    \n",
       "1                                      Braund, Mr. Owen Harris    male  22.0   \n",
       "2            Cumings, Mrs. John Bradley (Florence Briggs Th...  female  38.0   \n",
       "3                                       Heikkinen, Miss. Laina  female  26.0   \n",
       "4                 Futrelle, Mrs. Jacques Heath (Lily May Peel)  female  35.0   \n",
       "5                                     Allen, Mr. William Henry    male  35.0   \n",
       "\n",
       "             SibSp  Parch            Ticket     Fare Embarked  Gender  \\\n",
       "PassengerId                                                             \n",
       "1                1      0         A/5 21171   7.2500        S       0   \n",
       "2                1      0          PC 17599  71.2833        C       1   \n",
       "3                0      0  STON/O2. 3101282   7.9250        S       1   \n",
       "4                1      0            113803  53.1000        S       1   \n",
       "5                0      0            373450   8.0500        S       0   \n",
       "\n",
       "             Pclass_1  Pclass_2  Pclass_3  \n",
       "PassengerId                                \n",
       "1                   0         0         1  \n",
       "2                   1         0         0  \n",
       "3                   0         0         1  \n",
       "4                   1         0         0  \n",
       "5                   0         0         1  "
      ]
     },
     "execution_count": 22,
     "metadata": {},
     "output_type": "execute_result"
    }
   ],
   "source": [
    "data_full = pd.concat([data_full, pd.get_dummies(data_full[\"Pclass\"], prefix=\"Pclass\")], axis=1)\n",
    "data_full.head()"
   ]
  },
  {
   "cell_type": "code",
   "execution_count": 23,
   "metadata": {},
   "outputs": [],
   "source": [
    "# Выделим отдельно стобцы на основе которых будем строить модель\n",
    "selected_cols = [\"Pclass_1\", \"Pclass_2\", \"Pclass_3\", \"Age\", \"Gender\"]\n",
    "X = data_full[selected_cols]\n",
    "# Выделим целевую переменную\n",
    "y = data_full.Survived"
   ]
  },
  {
   "cell_type": "code",
   "execution_count": 50,
   "metadata": {},
   "outputs": [],
   "source": [
    "# Разделим выборку на обучающую и тестовую\n",
    "X_train, X_test, y_train, y_test = train_test_split(X, y,\n",
    "                                                    test_size=0.2, random_state=40,\n",
    "                                                   shuffle=True)"
   ]
  },
  {
   "cell_type": "code",
   "execution_count": 51,
   "metadata": {},
   "outputs": [
    {
     "name": "stdout",
     "output_type": "stream",
     "text": [
      "Доля правильных ответов = 0.7762237762237763\n"
     ]
    }
   ],
   "source": [
    "# Создадим модель и установим фиксированный random_state для воспроизводимости результатов\n",
    "model = DecisionTreeClassifier(random_state=42)\n",
    "# Обучим модель\n",
    "model.fit(X_train, y_train)\n",
    "# Проверим долю правильных ответов нашей модели на тестовой выборке\n",
    "acc = np.sum(model.predict(X_test) == y_test) / X_test.shape[0]\n",
    "print(\"Доля правильных ответов = {}\".format(acc))"
   ]
  },
  {
   "cell_type": "code",
   "execution_count": 52,
   "metadata": {},
   "outputs": [
    {
     "name": "stdout",
     "output_type": "stream",
     "text": [
      "Pclass_1 = 0.03848726745272861\n",
      "Pclass_2 = 0.011238558869084689\n",
      "Pclass_3 = 0.13323160379773744\n",
      "Age = 0.4079201756465267\n",
      "Gender = 0.40912239423392255\n"
     ]
    }
   ],
   "source": [
    "# Выведем признаки и их важности в модели\n",
    "for i, col_name in enumerate(selected_cols):\n",
    "    print(\"{} = {}\".format(col_name, model.feature_importances_[i]))"
   ]
  },
  {
   "cell_type": "markdown",
   "metadata": {},
   "source": [
    "Как видно, наибольшее влияние на выживаемость влияет возраст и пол. Теперь попробуем подобрать гиперпараметры, чтобы доля правильных ответов на тестовой выборке повысилась. Основным гиперпараметром дерева является его глубина. При большой глубине дерева, оно может переобучиться и выдавать плохие результаты на тестовой выборке, но отличные на обучающей. "
   ]
  },
  {
   "cell_type": "code",
   "execution_count": 16,
   "metadata": {},
   "outputs": [
    {
     "name": "stdout",
     "output_type": "stream",
     "text": [
      "Доля правильных ответов = 0.7622377622377622 при глубине равной = 2\n",
      "Доля правильных ответов = 0.7762237762237763 при глубине равной = 3\n",
      "Доля правильных ответов = 0.7762237762237763 при глубине равной = 4\n",
      "Доля правильных ответов = 0.7622377622377622 при глубине равной = 5\n",
      "Доля правильных ответов = 0.7762237762237763 при глубине равной = 6\n",
      "Доля правильных ответов = 0.7762237762237763 при глубине равной = 7\n",
      "Доля правильных ответов = 0.7762237762237763 при глубине равной = 8\n",
      "Доля правильных ответов = 0.7832167832167832 при глубине равной = 9\n",
      "Доля правильных ответов = 0.7692307692307693 при глубине равной = 10\n",
      "Доля правильных ответов = 0.7692307692307693 при глубине равной = 11\n",
      "Доля правильных ответов = 0.7762237762237763 при глубине равной = 12\n",
      "Доля правильных ответов = 0.7762237762237763 при глубине равной = 13\n",
      "Доля правильных ответов = 0.7762237762237763 при глубине равной = 14\n"
     ]
    }
   ],
   "source": [
    "# Попробуем построить деревья с максимальной глубиной от 2 до 15\n",
    "for depth in range(2, 15):\n",
    "    # Создадим модель и установим фиксированный random_state для воспроизводимости результатов\n",
    "    model = DecisionTreeClassifier(random_state=42, max_depth=depth)\n",
    "    # Обучим модель\n",
    "    model.fit(X_train, y_train)\n",
    "    # Проверим долю правильных ответов нашей модели на тестовой выборке\n",
    "    acc = np.sum(model.predict(X_test) == y_test) / X_test.shape[0]\n",
    "    print(\"Доля правильных ответов = {} при глубине равной = {}\".format(acc, depth))"
   ]
  },
  {
   "cell_type": "markdown",
   "metadata": {},
   "source": [
    "Как видно, при глубине равно 9 достигается максимальная доля правильных ответов равной 0.783. Это значение является наиболее подходящим для данной модели"
   ]
  },
  {
   "cell_type": "markdown",
   "metadata": {},
   "source": [
    "## Случайный лес"
   ]
  },
  {
   "cell_type": "markdown",
   "metadata": {},
   "source": [
    "В основе случайного леса лежит теорема Кондорсе «о жюри присяжных». Если каждый присяжный выносит правильный вердикт с вероятностью больше 50%, то усредненный вердикт присяжных будет иметь большую вероятность истиности.  \n",
    "Случайные леса в своей основе используют деревья принятий решений и алгоритм обучения модели состоит из следующих шагов:  \n",
    "1. Разбить обучающую выборку на n частей с замещением\n",
    "2. Создать n деревьев принятий решений и обучить каждый на своей части обучающей выборки\n",
    "3. Получить предсказания каждого дерева для тестовой выборки и усреднить"
   ]
  },
  {
   "cell_type": "markdown",
   "metadata": {},
   "source": [
    "Случайный лес реализован в классе sklearn.ensemble.RandomForestClassifier. Основными гиперпараметрами для настройки деревьев являеются n_estimators, которое определяет количество деревьев и max_depth определяющих их глубину."
   ]
  },
  {
   "cell_type": "code",
   "execution_count": 3,
   "metadata": {},
   "outputs": [],
   "source": [
    "# Импортируем\n",
    "from sklearn.ensemble import RandomForestClassifier"
   ]
  },
  {
   "cell_type": "code",
   "execution_count": 75,
   "metadata": {},
   "outputs": [],
   "source": [
    "# Создадим лес с 100 деревьев\n",
    "model = RandomForestClassifier(n_estimators=20, random_state=42)"
   ]
  },
  {
   "cell_type": "code",
   "execution_count": 76,
   "metadata": {},
   "outputs": [
    {
     "name": "stdout",
     "output_type": "stream",
     "text": [
      "Доля правильных ответов = 0.7762237762237763\n"
     ]
    }
   ],
   "source": [
    "# Обучим модель\n",
    "model.fit(X_train, y_train)\n",
    "# Проверим долю правильных ответов нашей модели на тестовой выборке\n",
    "acc = np.sum(model.predict(X_test) == y_test) / X_test.shape[0]\n",
    "print(\"Доля правильных ответов = {}\".format(acc))"
   ]
  },
  {
   "cell_type": "markdown",
   "metadata": {},
   "source": [
    "Как видим результат уже получился точно такой же как и при использовании одного дерева. Попробуем настроить гиперпараметры модели. "
   ]
  },
  {
   "cell_type": "code",
   "execution_count": 77,
   "metadata": {},
   "outputs": [],
   "source": [
    "best_val = 0\n",
    "best_model = None\n",
    "for n in range(1, 20, 1):\n",
    "    for depth in range(2, 20):\n",
    "        # Создадим лес с 100 деревьев\n",
    "        model = RandomForestClassifier(n_estimators=n, max_depth=depth, random_state=42)\n",
    "        # Обучим модель\n",
    "        model.fit(X_train, y_train)\n",
    "        # Проверим долю правильных ответов нашей модели на тестовой выборке\n",
    "        acc = np.sum(model.predict(X_test) == y_test) / X_test.shape[0]\n",
    "        if (acc > best_val):\n",
    "            best_val = acc\n",
    "            best_model = model"
   ]
  },
  {
   "cell_type": "code",
   "execution_count": 78,
   "metadata": {},
   "outputs": [
    {
     "name": "stdout",
     "output_type": "stream",
     "text": [
      "Best score = 0.8181818181818182\n"
     ]
    }
   ],
   "source": [
    "print(\"Best score = {}\".format(best_val))"
   ]
  },
  {
   "cell_type": "markdown",
   "metadata": {},
   "source": [
    "Как видим, в данном случае получился более точный результат, 81.8%, который гораздо лучше чем был при использовании одного дерева - 78.3%"
   ]
  },
  {
   "cell_type": "code",
   "execution_count": 79,
   "metadata": {},
   "outputs": [
    {
     "name": "stdout",
     "output_type": "stream",
     "text": [
      "Best params:\n",
      " Depth = 5\n",
      " Num of estimators = 18\n"
     ]
    }
   ],
   "source": [
    "print(\"Best params:\\n Depth = {}\\n Num of estimators = {}\".format(best_model.max_depth, best_model.n_estimators))"
   ]
  },
  {
   "cell_type": "markdown",
   "metadata": {},
   "source": [
    "## Задание на лабораторную\n",
    "Файлы с исходными данными находятся по пути *Datasets/classification/v<номер варианта>.csv*\n",
    "\n",
    "| Вариант | Целевая переменная | Краткое описание | Источник\n",
    "|-------|------------|----------------------------|-------------------|\n",
    "|1|y|Предсказать, воспользуется ли клиент временным депозитом.|https://archive.ics.uci.edu/ml/datasets/bank+marketing\n",
    "|2|bad|Предсказать значение переменной BAD, показывающей что клиент банка не выполнит свои обязательства(например не выплатит кредит).|https://www.kaggle.com/ajay1735/hmeq-data/data\n",
    "|3|churn|Предсказать что клинет оператора(столбец churn) откажется от его услуг|https://www.kaggle.com/becksddf/churn-in-telecoms-dataset/data\n",
    "|4|RainTomorrow|Предсказать, будет ли завтра дождь(Столбец RainTomorrow), на основе данные за текущий день |https://www.kaggle.com/jsphyg/weather-dataset-rattle-package\n",
    "|5|sol|Пресказать, зарабатывает ли человек более 50k долларов в год|https://archive.ics.uci.edu/ml/datasets/Adult\n",
    "|6|acceptable|Предсказать, что качество машины в удовлетворительном состоянии( столбец acceptable)|https://archive.ics.uci.edu/ml/datasets/Car+Evaluation\n",
    "|7|Severity| Предсказать тип образование ( столбец Severity, 1 - злокачественная) |https://archive.ics.uci.edu/ml/datasets/Mammographic+Mass\n",
    "|8|dicision|Определить, готов ли пациент для выписки из больницы( столбец dicision = 1)|https://archive.ics.uci.edu/ml/datasets/Post-Operative+Patient\n",
    "|9|edible|Определить, является ли гриб съедобным по его внешним признакам( столбец edible)|https://archive.ics.uci.edu/ml/datasets/Mushroom\n",
    "|10|class|Предсказать банкротство на основе рисков( столбец class)|https://archive.ics.uci.edu/ml/datasets/Qualitative_Bankruptcy\n",
    "|11|class|Определить каким типом посадки необходимо воспользоваться : автоматическая или ручная ( столбец class)|https://archive.ics.uci.edu/ml/datasets/Shuttle+Landing+Control\n",
    "|12|absence|Определить наличие болезни сердца ( столбец absence )|https://archive.ics.uci.edu/ml/datasets/Statlog+%28Heart%29\n",
    "|13|target|Используя данные о сессии браузера, определить является пользователем Элис Целевой признак target – факт того, что сессия принадлжит Элис (то есть что именно Элис ходила по всем этим сайтам)|https://www.kaggle.com/c/catch-me-if-you-can-intruder-detection-through-webpage-session-tracking\n",
    "|14|survive|Определить, проживёт ли пациент более 5 лет после проведения операции|https://archive.ics.uci.edu/ml/datasets/Haberman%27s+Survival\n",
    "|15|isAlive|Определить, выживет ли персонаж игры престолов(колонка isAlive)|https://www.kaggle.com/mylesoneill/game-of-thrones/data"
   ]
  },
  {
   "cell_type": "code",
   "execution_count": null,
   "metadata": {},
   "outputs": [],
   "source": []
  }
 ],
 "metadata": {
  "kernelspec": {
   "display_name": "Python 3",
   "language": "python",
   "name": "python3"
  },
  "language_info": {
   "codemirror_mode": {
    "name": "ipython",
    "version": 3
   },
   "file_extension": ".py",
   "mimetype": "text/x-python",
   "name": "python",
   "nbconvert_exporter": "python",
   "pygments_lexer": "ipython3",
   "version": "3.6.4"
  }
 },
 "nbformat": 4,
 "nbformat_minor": 2
}
